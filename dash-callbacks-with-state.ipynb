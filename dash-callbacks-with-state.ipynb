{
 "metadata": {
  "language_info": {
   "codemirror_mode": {
    "name": "ipython",
    "version": 3
   },
   "file_extension": ".py",
   "mimetype": "text/x-python",
   "name": "python",
   "nbconvert_exporter": "python",
   "pygments_lexer": "ipython3",
   "version": "3.8.5-final"
  },
  "orig_nbformat": 2,
  "kernelspec": {
   "name": "python3",
   "display_name": "Python 3",
   "language": "python"
  }
 },
 "nbformat": 4,
 "nbformat_minor": 2,
 "cells": [
  {
   "cell_type": "code",
   "execution_count": 1,
   "metadata": {},
   "outputs": [],
   "source": [
    "#dash modules\n",
    "import dash\n",
    "import dash_core_components as dcc\n",
    "import dash_html_components as html\n",
    "from dash.dependencies import Input, Output\n",
    "\n",
    "#plotly modules\n",
    "import plotly.offline as pyo \n",
    "import plotly.figure_factory as ff\n",
    "import plotly.graph_objs as go \n",
    "from plotly import tools\n",
    "\n",
    "#dataset modules\n",
    "import pandas as pd\n",
    "import numpy as np"
   ]
  },
  {
   "source": [
    "## 1. Controlling Callbacks with Dash State\n"
   ],
   "cell_type": "markdown",
   "metadata": {}
  },
  {
   "cell_type": "code",
   "execution_count": null,
   "metadata": {},
   "outputs": [],
   "source": [
    "app = dash.Dash()\n",
    "\n",
    "app.layout = html.Div([\n",
    "    dcc.Input(id='my-id',value='Initial Text',type='text'), html.Div(id='my-div')\n",
    "])\n",
    "\n",
    "@app.callback(Output(component_id='my-div', component_property='children'), [Input(component_id = 'my-id', component_property='value')])\n",
    "def update_output_div(input_value):\n",
    "    return \"You entered: {}\".format(input_value)\n",
    "\n",
    "if __name__ == '__main__':\n",
    "    app.run_server()"
   ]
  }
 ]
}