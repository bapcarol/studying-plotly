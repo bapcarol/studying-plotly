{
 "metadata": {
  "language_info": {
   "codemirror_mode": {
    "name": "ipython",
    "version": 3
   },
   "file_extension": ".py",
   "mimetype": "text/x-python",
   "name": "python",
   "nbconvert_exporter": "python",
   "pygments_lexer": "ipython3",
   "version": "3.8.5-final"
  },
  "orig_nbformat": 2,
  "kernelspec": {
   "name": "python3",
   "display_name": "Python 3",
   "language": "python"
  }
 },
 "nbformat": 4,
 "nbformat_minor": 2,
 "cells": [
  {
   "cell_type": "code",
   "execution_count": 19,
   "metadata": {},
   "outputs": [],
   "source": [
    "import numpy as np \n",
    "import pandas as pd\n",
    "import plotly.offline as pyo \n",
    "import plotly.graph_objs as go "
   ]
  },
  {
   "cell_type": "code",
   "execution_count": 3,
   "metadata": {},
   "outputs": [],
   "source": [
    "np.random.seed(42)"
   ]
  },
  {
   "cell_type": "code",
   "execution_count": 4,
   "metadata": {},
   "outputs": [],
   "source": [
    "random_x = np.random.randint(1,101,100)\n",
    "random_y = np.random.randint(1,101,100)"
   ]
  },
  {
   "cell_type": "code",
   "execution_count": 12,
   "metadata": {},
   "outputs": [
    {
     "output_type": "execute_result",
     "data": {
      "text/plain": [
       "'scatter-plot.html'"
      ]
     },
     "metadata": {},
     "execution_count": 12
    }
   ],
   "source": [
    "data = [go.Scatter(\n",
    "    x = random_x, \n",
    "    y = random_y, \n",
    "    mode = 'markers',\n",
    "    marker = dict(\n",
    "        size = 12,\n",
    "        color = 'rgb(51,204,153)',\n",
    "        symbol= 'pentagon',\n",
    "        line = {'width': 2} \n",
    "    ))]\n",
    "layout_teste = go.Layout(title='First Plot', xaxis = {'title':'MY X AXIS'}, yaxis = dict(title = 'MY Y AXIS'), hovermode = 'closest')\n",
    "\n",
    "fig = go.Figure(data=data,layout=layout_teste)\n",
    "pyo.plot(fig, filename='scatter-plot.html')"
   ]
  },
  {
   "cell_type": "code",
   "execution_count": 18,
   "metadata": {},
   "outputs": [
    {
     "output_type": "execute_result",
     "data": {
      "text/plain": [
       "'temp-plot.html'"
      ]
     },
     "metadata": {},
     "execution_count": 18
    }
   ],
   "source": [
    "x_values = np.linspace(0,1,100)\n",
    "y_values = np.random.randn(100)\n",
    "\n",
    "trace0 = go.Scatter(x =x_values, y=y_values+5, mode='markers', name = 'markers')\n",
    "\n",
    "trace1 = go.Scatter(x=x_values, y=y_values, mode='lines', name = 'mylines')\n",
    "\n",
    "trace2 = go.Scatter(x=x_values, y=y_values - 5, mode='lines+markers', name = 'my favorite')\n",
    "\n",
    "data = [trace0,trace1, trace2]\n",
    "\n",
    "layout = go.Layout(title='Line Charts')\n",
    "\n",
    "fig = go.Figure(data=data,layout=layout)\n",
    "\n",
    "pyo.plot(fig)\n"
   ]
  },
  {
   "cell_type": "code",
   "execution_count": 23,
   "metadata": {},
   "outputs": [],
   "source": [
    "#######\n",
    "# Objective: Using the file 2010YumaAZ.csv, develop a Line Chart\n",
    "# that plots seven days worth of temperature data on one graph.\n",
    "# You can use a for loop to assign each day to its own trace.\n",
    "######\n",
    "\n",
    "# Create a pandas DataFrame from 2010YumaAZ.csv\n",
    "df = pd.read_csv('Data/2010YumaAZ.csv')\n",
    "days = ['TUESDAY','WEDNESDAY','THURSDAY','FRIDAY','SATURDAY','SUNDAY','MONDAY']"
   ]
  },
  {
   "cell_type": "code",
   "execution_count": 27,
   "metadata": {},
   "outputs": [
    {
     "output_type": "execute_result",
     "data": {
      "text/plain": [
       "Index(['LST_DATE', 'DAY', 'LST_TIME', 'T_HR_AVG'], dtype='object')"
      ]
     },
     "metadata": {},
     "execution_count": 27
    }
   ],
   "source": [
    "df.columns"
   ]
  },
  {
   "cell_type": "code",
   "execution_count": 28,
   "metadata": {},
   "outputs": [
    {
     "output_type": "execute_result",
     "data": {
      "text/plain": [
       "   LST_DATE      DAY LST_TIME  T_HR_AVG\n",
       "0  20100601  TUESDAY     0:00      25.2\n",
       "1  20100601  TUESDAY     1:00      24.1\n",
       "2  20100601  TUESDAY     2:00      24.4\n",
       "3  20100601  TUESDAY     3:00      24.9\n",
       "4  20100601  TUESDAY     4:00      22.8"
      ],
      "text/html": "<div>\n<style scoped>\n    .dataframe tbody tr th:only-of-type {\n        vertical-align: middle;\n    }\n\n    .dataframe tbody tr th {\n        vertical-align: top;\n    }\n\n    .dataframe thead th {\n        text-align: right;\n    }\n</style>\n<table border=\"1\" class=\"dataframe\">\n  <thead>\n    <tr style=\"text-align: right;\">\n      <th></th>\n      <th>LST_DATE</th>\n      <th>DAY</th>\n      <th>LST_TIME</th>\n      <th>T_HR_AVG</th>\n    </tr>\n  </thead>\n  <tbody>\n    <tr>\n      <th>0</th>\n      <td>20100601</td>\n      <td>TUESDAY</td>\n      <td>0:00</td>\n      <td>25.2</td>\n    </tr>\n    <tr>\n      <th>1</th>\n      <td>20100601</td>\n      <td>TUESDAY</td>\n      <td>1:00</td>\n      <td>24.1</td>\n    </tr>\n    <tr>\n      <th>2</th>\n      <td>20100601</td>\n      <td>TUESDAY</td>\n      <td>2:00</td>\n      <td>24.4</td>\n    </tr>\n    <tr>\n      <th>3</th>\n      <td>20100601</td>\n      <td>TUESDAY</td>\n      <td>3:00</td>\n      <td>24.9</td>\n    </tr>\n    <tr>\n      <th>4</th>\n      <td>20100601</td>\n      <td>TUESDAY</td>\n      <td>4:00</td>\n      <td>22.8</td>\n    </tr>\n  </tbody>\n</table>\n</div>"
     },
     "metadata": {},
     "execution_count": 28
    }
   ],
   "source": [
    "df.head()"
   ]
  },
  {
   "cell_type": "code",
   "execution_count": 41,
   "metadata": {},
   "outputs": [
    {
     "output_type": "execute_result",
     "data": {
      "text/plain": [
       "<bound method Series.unique of 0       0:00\n",
       "1       1:00\n",
       "2       2:00\n",
       "3       3:00\n",
       "4       4:00\n",
       "       ...  \n",
       "163    19:00\n",
       "164    20:00\n",
       "165    21:00\n",
       "166    22:00\n",
       "167    23:00\n",
       "Name: LST_TIME, Length: 168, dtype: object>"
      ]
     },
     "metadata": {},
     "execution_count": 41
    }
   ],
   "source": [
    "'''df = pd.DataFrame(np.random.randn(100,4),columns='A B C D'.split())\n",
    "pyo.plot([{\n",
    "    'x': df.index,\n",
    "    'y': df[col],\n",
    "    'name': col\n",
    "} for col in df.columns])'''\n",
    "df['LST_TIME'].unique"
   ]
  },
  {
   "cell_type": "code",
   "execution_count": 43,
   "metadata": {},
   "outputs": [
    {
     "output_type": "execute_result",
     "data": {
      "text/plain": [
       "'basics-ex1.html'"
      ]
     },
     "metadata": {},
     "execution_count": 43
    }
   ],
   "source": [
    "data = [go.Scatter(x=df['LST_TIME'],\n",
    "    y = df[df['DAY'] == day]['T_HR_AVG'],\n",
    "    mode = ' lines',\n",
    "    name = day) for day in days]\n",
    "\n",
    "layout = go.Layout(title='Line Charts')\n",
    "\n",
    "fig = go.Figure(data=data,layout=layout)\n",
    "\n",
    "pyo.plot(fig, filename='basics-ex1.html')\n"
   ]
  },
  {
   "cell_type": "code",
   "execution_count": null,
   "metadata": {},
   "outputs": [],
   "source": [
    "teste"
   ]
  }
 ]
}