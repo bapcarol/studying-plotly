{
 "metadata": {
  "language_info": {
   "codemirror_mode": {
    "name": "ipython",
    "version": 3
   },
   "file_extension": ".py",
   "mimetype": "text/x-python",
   "name": "python",
   "nbconvert_exporter": "python",
   "pygments_lexer": "ipython3",
   "version": "3.8.5-final"
  },
  "orig_nbformat": 2,
  "kernelspec": {
   "name": "python3",
   "display_name": "Python 3",
   "language": "python"
  }
 },
 "nbformat": 4,
 "nbformat_minor": 2,
 "cells": [
  {
   "cell_type": "code",
   "execution_count": 55,
   "metadata": {},
   "outputs": [],
   "source": [
    "import numpy as np \n",
    "import pandas as pd\n",
    "import plotly.offline as pyo \n",
    "import plotly.figure_factory as ff\n",
    "import plotly.graph_objs as go \n",
    "from plotly import tools"
   ]
  },
  {
   "cell_type": "code",
   "execution_count": 3,
   "metadata": {},
   "outputs": [],
   "source": [
    "np.random.seed(42)"
   ]
  },
  {
   "cell_type": "code",
   "execution_count": 4,
   "metadata": {},
   "outputs": [],
   "source": [
    "random_x = np.random.randint(1,101,100)\n",
    "random_y = np.random.randint(1,101,100)"
   ]
  },
  {
   "source": [
    "## 1. Scatter Plot"
   ],
   "cell_type": "markdown",
   "metadata": {}
  },
  {
   "cell_type": "code",
   "execution_count": 12,
   "metadata": {},
   "outputs": [
    {
     "output_type": "execute_result",
     "data": {
      "text/plain": [
       "'scatter-plot.html'"
      ]
     },
     "metadata": {},
     "execution_count": 12
    }
   ],
   "source": [
    "data = [go.Scatter(\n",
    "    x = random_x, \n",
    "    y = random_y, \n",
    "    mode = 'markers',\n",
    "    marker = dict(\n",
    "        size = 12,\n",
    "        color = 'rgb(51,204,153)',\n",
    "        symbol= 'pentagon',\n",
    "        line = {'width': 2} \n",
    "    ))]\n",
    "layout_teste = go.Layout(title='First Plot', xaxis = {'title':'MY X AXIS'}, yaxis = dict(title = 'MY Y AXIS'), hovermode = 'closest')\n",
    "\n",
    "fig = go.Figure(data=data,layout=layout_teste)\n",
    "pyo.plot(fig, filename='scatter-plot.html')"
   ]
  },
  {
   "source": [
    "## 2. Lines Plot"
   ],
   "cell_type": "markdown",
   "metadata": {}
  },
  {
   "cell_type": "code",
   "execution_count": 18,
   "metadata": {},
   "outputs": [
    {
     "output_type": "execute_result",
     "data": {
      "text/plain": [
       "'temp-plot.html'"
      ]
     },
     "metadata": {},
     "execution_count": 18
    }
   ],
   "source": [
    "x_values = np.linspace(0,1,100)\n",
    "y_values = np.random.randn(100)\n",
    "\n",
    "trace0 = go.Scatter(x =x_values, y=y_values+5, mode='markers', name = 'markers')\n",
    "\n",
    "trace1 = go.Scatter(x=x_values, y=y_values, mode='lines', name = 'mylines')\n",
    "\n",
    "trace2 = go.Scatter(x=x_values, y=y_values - 5, mode='lines+markers', name = 'my favorite')\n",
    "\n",
    "data = [trace0,trace1, trace2]\n",
    "\n",
    "layout = go.Layout(title='Line Charts')\n",
    "\n",
    "fig = go.Figure(data=data,layout=layout)\n",
    "\n",
    "pyo.plot(fig)\n"
   ]
  },
  {
   "cell_type": "code",
   "execution_count": 23,
   "metadata": {},
   "outputs": [],
   "source": [
    "#######\n",
    "# Objective: Using the file 2010YumaAZ.csv, develop a Line Chart\n",
    "# that plots seven days worth of temperature data on one graph.\n",
    "# You can use a for loop to assign each day to its own trace.\n",
    "######\n",
    "\n",
    "# Create a pandas DataFrame from 2010YumaAZ.csv\n",
    "df = pd.read_csv('Data/2010YumaAZ.csv')\n",
    "days = ['TUESDAY','WEDNESDAY','THURSDAY','FRIDAY','SATURDAY','SUNDAY','MONDAY']"
   ]
  },
  {
   "cell_type": "code",
   "execution_count": 27,
   "metadata": {},
   "outputs": [
    {
     "output_type": "execute_result",
     "data": {
      "text/plain": [
       "Index(['LST_DATE', 'DAY', 'LST_TIME', 'T_HR_AVG'], dtype='object')"
      ]
     },
     "metadata": {},
     "execution_count": 27
    }
   ],
   "source": [
    "df.columns"
   ]
  },
  {
   "cell_type": "code",
   "execution_count": 28,
   "metadata": {},
   "outputs": [
    {
     "output_type": "execute_result",
     "data": {
      "text/plain": [
       "   LST_DATE      DAY LST_TIME  T_HR_AVG\n",
       "0  20100601  TUESDAY     0:00      25.2\n",
       "1  20100601  TUESDAY     1:00      24.1\n",
       "2  20100601  TUESDAY     2:00      24.4\n",
       "3  20100601  TUESDAY     3:00      24.9\n",
       "4  20100601  TUESDAY     4:00      22.8"
      ],
      "text/html": "<div>\n<style scoped>\n    .dataframe tbody tr th:only-of-type {\n        vertical-align: middle;\n    }\n\n    .dataframe tbody tr th {\n        vertical-align: top;\n    }\n\n    .dataframe thead th {\n        text-align: right;\n    }\n</style>\n<table border=\"1\" class=\"dataframe\">\n  <thead>\n    <tr style=\"text-align: right;\">\n      <th></th>\n      <th>LST_DATE</th>\n      <th>DAY</th>\n      <th>LST_TIME</th>\n      <th>T_HR_AVG</th>\n    </tr>\n  </thead>\n  <tbody>\n    <tr>\n      <th>0</th>\n      <td>20100601</td>\n      <td>TUESDAY</td>\n      <td>0:00</td>\n      <td>25.2</td>\n    </tr>\n    <tr>\n      <th>1</th>\n      <td>20100601</td>\n      <td>TUESDAY</td>\n      <td>1:00</td>\n      <td>24.1</td>\n    </tr>\n    <tr>\n      <th>2</th>\n      <td>20100601</td>\n      <td>TUESDAY</td>\n      <td>2:00</td>\n      <td>24.4</td>\n    </tr>\n    <tr>\n      <th>3</th>\n      <td>20100601</td>\n      <td>TUESDAY</td>\n      <td>3:00</td>\n      <td>24.9</td>\n    </tr>\n    <tr>\n      <th>4</th>\n      <td>20100601</td>\n      <td>TUESDAY</td>\n      <td>4:00</td>\n      <td>22.8</td>\n    </tr>\n  </tbody>\n</table>\n</div>"
     },
     "metadata": {},
     "execution_count": 28
    }
   ],
   "source": [
    "df.head()"
   ]
  },
  {
   "cell_type": "code",
   "execution_count": 41,
   "metadata": {},
   "outputs": [
    {
     "output_type": "execute_result",
     "data": {
      "text/plain": [
       "<bound method Series.unique of 0       0:00\n",
       "1       1:00\n",
       "2       2:00\n",
       "3       3:00\n",
       "4       4:00\n",
       "       ...  \n",
       "163    19:00\n",
       "164    20:00\n",
       "165    21:00\n",
       "166    22:00\n",
       "167    23:00\n",
       "Name: LST_TIME, Length: 168, dtype: object>"
      ]
     },
     "metadata": {},
     "execution_count": 41
    }
   ],
   "source": [
    "'''df = pd.DataFrame(np.random.randn(100,4),columns='A B C D'.split())\n",
    "pyo.plot([{\n",
    "    'x': df.index,\n",
    "    'y': df[col],\n",
    "    'name': col\n",
    "} for col in df.columns])'''\n",
    "df['LST_TIME'].unique"
   ]
  },
  {
   "cell_type": "code",
   "execution_count": 43,
   "metadata": {},
   "outputs": [
    {
     "output_type": "execute_result",
     "data": {
      "text/plain": [
       "'basics-ex1.html'"
      ]
     },
     "metadata": {},
     "execution_count": 43
    }
   ],
   "source": [
    "data = [go.Scatter(x=df['LST_TIME'],\n",
    "    y = df[df['DAY'] == day]['T_HR_AVG'],\n",
    "    mode = ' lines',\n",
    "    name = day) for day in days]\n",
    "\n",
    "layout = go.Layout(title='Line Charts')\n",
    "\n",
    "fig = go.Figure(data=data,layout=layout)\n",
    "\n",
    "pyo.plot(fig, filename='basics-ex1.html')\n"
   ]
  },
  {
   "source": [
    "## 3. Bar Chart"
   ],
   "cell_type": "markdown",
   "metadata": {}
  },
  {
   "cell_type": "code",
   "execution_count": 3,
   "metadata": {},
   "outputs": [
    {
     "output_type": "execute_result",
     "data": {
      "text/plain": [
       "'basics-ex2.html'"
      ]
     },
     "metadata": {},
     "execution_count": 3
    }
   ],
   "source": [
    "##https://plotly.com/python/horizontal-bar-charts/\n",
    "\n",
    "# create a DataFrame from the .csv file:\n",
    "df = pd.read_csv(r'Data\\mocksurvey.csv',index_col=0)\n",
    "\n",
    "# create traces using a list comprehension:\n",
    "data = [go.Bar(\n",
    "    x = df.index,\n",
    "    y = df[response],\n",
    "    name=response\n",
    ") for response in df.columns]\n",
    "\n",
    "# create a layout\n",
    "layout = go.Layout(\n",
    "    title='Mock Survey Results',\n",
    "    barmode='stack'\n",
    ")\n",
    "\n",
    "# create a fig from data & layout, and plot the fig\n",
    "fig = go.Figure(data=data, layout=layout)\n",
    "\n",
    "pyo.plot(fig, filename='basics-ex2.html')"
   ]
  },
  {
   "cell_type": "code",
   "execution_count": 4,
   "metadata": {},
   "outputs": [
    {
     "output_type": "execute_result",
     "data": {
      "text/plain": [
       "'basics-ex2-horizontal.html'"
      ]
     },
     "metadata": {},
     "execution_count": 4
    }
   ],
   "source": [
    "#https://plotly.com/python/horizontal-bar-charts/\n",
    "\n",
    "# now let's plot the same data but as horizontal bars\n",
    "\n",
    "# create traces using a list comprehension:\n",
    "data = [go.Bar(\n",
    "    x = df[response],\n",
    "    y = df.index,\n",
    "    name=response,\n",
    "    orientation= 'h'\n",
    ") for response in df.columns]\n",
    "\n",
    "# create a layout\n",
    "layout = go.Layout(\n",
    "    title='Mock Survey Results',\n",
    "    barmode='stack'\n",
    ")\n",
    "\n",
    "# create a fig from data & layout, and plot the fig\n",
    "fig = go.Figure(data=data, layout=layout)\n",
    "\n",
    "pyo.plot(fig, filename='basics-ex2-horizontal.html')"
   ]
  },
  {
   "source": [
    "## 4. Bubble Plots"
   ],
   "cell_type": "markdown",
   "metadata": {}
  },
  {
   "source": [
    "\n",
    "data = [go.Scatter(\n",
    "    x=df['horsepower'],\n",
    "    y=df['mpg'],\n",
    "    text=df['name'],\n",
    "    mode='markers',\n",
    "    marker = dict(size=2*df[cylinders],\n",
    "    color=df[weight])\n",
    ")]\n",
    "\n",
    "#experiment the size, dividing or multiplying so its bigger or smaller\n",
    "\n",
    "layout = go.Layout(title = 'Bubble Chart', hovermode='x'or'y'or'closest')\n",
    "\n",
    "fig = Figure(data=data, layout=layout)\n",
    "\n",
    "pyo.plot(fig, name = 'aa')"
   ],
   "cell_type": "markdown",
   "metadata": {}
  },
  {
   "cell_type": "code",
   "execution_count": 7,
   "metadata": {},
   "outputs": [
    {
     "output_type": "execute_result",
     "data": {
      "text/plain": [
       "    mpg  cylinders  displacement horsepower  weight  acceleration  model_year  \\\n",
       "0  18.0          8         307.0        130    3504          12.0          70   \n",
       "1  15.0          8         350.0        165    3693          11.5          70   \n",
       "2  18.0          8         318.0        150    3436          11.0          70   \n",
       "3  16.0          8         304.0        150    3433          12.0          70   \n",
       "4  17.0          8         302.0        140    3449          10.5          70   \n",
       "\n",
       "   origin                       name  \n",
       "0       1  chevrolet chevelle malibu  \n",
       "1       1          buick skylark 320  \n",
       "2       1         plymouth satellite  \n",
       "3       1              amc rebel sst  \n",
       "4       1                ford torino  "
      ],
      "text/html": "<div>\n<style scoped>\n    .dataframe tbody tr th:only-of-type {\n        vertical-align: middle;\n    }\n\n    .dataframe tbody tr th {\n        vertical-align: top;\n    }\n\n    .dataframe thead th {\n        text-align: right;\n    }\n</style>\n<table border=\"1\" class=\"dataframe\">\n  <thead>\n    <tr style=\"text-align: right;\">\n      <th></th>\n      <th>mpg</th>\n      <th>cylinders</th>\n      <th>displacement</th>\n      <th>horsepower</th>\n      <th>weight</th>\n      <th>acceleration</th>\n      <th>model_year</th>\n      <th>origin</th>\n      <th>name</th>\n    </tr>\n  </thead>\n  <tbody>\n    <tr>\n      <th>0</th>\n      <td>18.0</td>\n      <td>8</td>\n      <td>307.0</td>\n      <td>130</td>\n      <td>3504</td>\n      <td>12.0</td>\n      <td>70</td>\n      <td>1</td>\n      <td>chevrolet chevelle malibu</td>\n    </tr>\n    <tr>\n      <th>1</th>\n      <td>15.0</td>\n      <td>8</td>\n      <td>350.0</td>\n      <td>165</td>\n      <td>3693</td>\n      <td>11.5</td>\n      <td>70</td>\n      <td>1</td>\n      <td>buick skylark 320</td>\n    </tr>\n    <tr>\n      <th>2</th>\n      <td>18.0</td>\n      <td>8</td>\n      <td>318.0</td>\n      <td>150</td>\n      <td>3436</td>\n      <td>11.0</td>\n      <td>70</td>\n      <td>1</td>\n      <td>plymouth satellite</td>\n    </tr>\n    <tr>\n      <th>3</th>\n      <td>16.0</td>\n      <td>8</td>\n      <td>304.0</td>\n      <td>150</td>\n      <td>3433</td>\n      <td>12.0</td>\n      <td>70</td>\n      <td>1</td>\n      <td>amc rebel sst</td>\n    </tr>\n    <tr>\n      <th>4</th>\n      <td>17.0</td>\n      <td>8</td>\n      <td>302.0</td>\n      <td>140</td>\n      <td>3449</td>\n      <td>10.5</td>\n      <td>70</td>\n      <td>1</td>\n      <td>ford torino</td>\n    </tr>\n  </tbody>\n</table>\n</div>"
     },
     "metadata": {},
     "execution_count": 7
    }
   ],
   "source": [
    "#objective: Create a bubble chart that compares three other features\n",
    "\n",
    "#create dataframe:\n",
    "df = pd.read_csv(r'Data\\mpg.csv')\n",
    "\n",
    "df.head()"
   ]
  },
  {
   "cell_type": "code",
   "execution_count": 16,
   "metadata": {},
   "outputs": [
    {
     "output_type": "execute_result",
     "data": {
      "text/plain": [
       "'basics-ex3-bubbleplot.html'"
      ]
     },
     "metadata": {},
     "execution_count": 16
    }
   ],
   "source": [
    "data = [go.Scatter(\n",
    "    x=df['displacement'],\n",
    "    y=df['mpg'],\n",
    "    text=df['name'],\n",
    "    mode='markers',\n",
    "    marker = dict(size=2*df['acceleration'],\n",
    "    color=df['model_year'])\n",
    ")]\n",
    "\n",
    "layout = go.Layout(title = 'Bubble Chart', hovermode='closest')\n",
    "\n",
    "fig = go.Figure(data=data, layout=layout)\n",
    "\n",
    "pyo.plot(fig, filename = 'basics-ex3-bubbleplot')"
   ]
  },
  {
   "cell_type": "code",
   "execution_count": null,
   "metadata": {},
   "outputs": [],
   "source": []
  },
  {
   "source": [
    "## 5. Box Plot"
   ],
   "cell_type": "markdown",
   "metadata": {}
  },
  {
   "cell_type": "code",
   "execution_count": 22,
   "metadata": {},
   "outputs": [
    {
     "output_type": "execute_result",
     "data": {
      "text/plain": [
       "[1, 2, 2, 3, 3, 3, 3, 7, 10, 12, 13, 14, 20, 22, 23, 24, 36, 43, 46, 51]"
      ]
     },
     "metadata": {},
     "execution_count": 22
    }
   ],
   "source": [
    "y = sorted(np.random.randint(1,55,20))\n",
    "y"
   ]
  },
  {
   "cell_type": "code",
   "execution_count": 26,
   "metadata": {},
   "outputs": [
    {
     "output_type": "execute_result",
     "data": {
      "text/plain": [
       "'temp-plot.html'"
      ]
     },
     "metadata": {},
     "execution_count": 26
    }
   ],
   "source": [
    "data = [go.Box(y=y, boxpoints='all', jitter=0.3, pointpos=0)]\n",
    "\n",
    "pyo.plot(data)"
   ]
  },
  {
   "cell_type": "code",
   "execution_count": 27,
   "metadata": {},
   "outputs": [
    {
     "output_type": "execute_result",
     "data": {
      "text/plain": [
       "'temp-plot.html'"
      ]
     },
     "metadata": {},
     "execution_count": 27
    }
   ],
   "source": [
    "data = [go.Box(y=y, boxpoints='outliers')]\n",
    "\n",
    "pyo.plot(data)"
   ]
  },
  {
   "cell_type": "code",
   "execution_count": 28,
   "metadata": {},
   "outputs": [],
   "source": [
    "#Exercise\n",
    "#objective: Make a DF using the Abalone dataset (../data/abalone.csv)\n",
    "#Take Two independent random samples of different sizes from the rings field."
   ]
  },
  {
   "cell_type": "code",
   "execution_count": 30,
   "metadata": {},
   "outputs": [
    {
     "output_type": "execute_result",
     "data": {
      "text/plain": [
       "  sex  length  diameter  height  whole_weight  shucked_weight  viscera_weight  \\\n",
       "0   M   0.455     0.365   0.095        0.5140          0.2245          0.1010   \n",
       "1   M   0.350     0.265   0.090        0.2255          0.0995          0.0485   \n",
       "2   F   0.530     0.420   0.135        0.6770          0.2565          0.1415   \n",
       "3   M   0.440     0.365   0.125        0.5160          0.2155          0.1140   \n",
       "4   I   0.330     0.255   0.080        0.2050          0.0895          0.0395   \n",
       "\n",
       "   shell_weight  rings  \n",
       "0         0.150     15  \n",
       "1         0.070      7  \n",
       "2         0.210      9  \n",
       "3         0.155     10  \n",
       "4         0.055      7  "
      ],
      "text/html": "<div>\n<style scoped>\n    .dataframe tbody tr th:only-of-type {\n        vertical-align: middle;\n    }\n\n    .dataframe tbody tr th {\n        vertical-align: top;\n    }\n\n    .dataframe thead th {\n        text-align: right;\n    }\n</style>\n<table border=\"1\" class=\"dataframe\">\n  <thead>\n    <tr style=\"text-align: right;\">\n      <th></th>\n      <th>sex</th>\n      <th>length</th>\n      <th>diameter</th>\n      <th>height</th>\n      <th>whole_weight</th>\n      <th>shucked_weight</th>\n      <th>viscera_weight</th>\n      <th>shell_weight</th>\n      <th>rings</th>\n    </tr>\n  </thead>\n  <tbody>\n    <tr>\n      <th>0</th>\n      <td>M</td>\n      <td>0.455</td>\n      <td>0.365</td>\n      <td>0.095</td>\n      <td>0.5140</td>\n      <td>0.2245</td>\n      <td>0.1010</td>\n      <td>0.150</td>\n      <td>15</td>\n    </tr>\n    <tr>\n      <th>1</th>\n      <td>M</td>\n      <td>0.350</td>\n      <td>0.265</td>\n      <td>0.090</td>\n      <td>0.2255</td>\n      <td>0.0995</td>\n      <td>0.0485</td>\n      <td>0.070</td>\n      <td>7</td>\n    </tr>\n    <tr>\n      <th>2</th>\n      <td>F</td>\n      <td>0.530</td>\n      <td>0.420</td>\n      <td>0.135</td>\n      <td>0.6770</td>\n      <td>0.2565</td>\n      <td>0.1415</td>\n      <td>0.210</td>\n      <td>9</td>\n    </tr>\n    <tr>\n      <th>3</th>\n      <td>M</td>\n      <td>0.440</td>\n      <td>0.365</td>\n      <td>0.125</td>\n      <td>0.5160</td>\n      <td>0.2155</td>\n      <td>0.1140</td>\n      <td>0.155</td>\n      <td>10</td>\n    </tr>\n    <tr>\n      <th>4</th>\n      <td>I</td>\n      <td>0.330</td>\n      <td>0.255</td>\n      <td>0.080</td>\n      <td>0.2050</td>\n      <td>0.0895</td>\n      <td>0.0395</td>\n      <td>0.055</td>\n      <td>7</td>\n    </tr>\n  </tbody>\n</table>\n</div>"
     },
     "metadata": {},
     "execution_count": 30
    }
   ],
   "source": [
    "df = pd.read_csv('Data/abalone.csv')\n",
    "\n",
    "df.head()"
   ]
  },
  {
   "cell_type": "code",
   "execution_count": 37,
   "metadata": {},
   "outputs": [
    {
     "output_type": "execute_result",
     "data": {
      "text/plain": [
       "(4177, 9)"
      ]
     },
     "metadata": {},
     "execution_count": 37
    }
   ],
   "source": [
    "df.shape"
   ]
  },
  {
   "cell_type": "code",
   "execution_count": 41,
   "metadata": {},
   "outputs": [
    {
     "output_type": "stream",
     "name": "stdout",
     "text": [
      "[ 9  8 16  9 14 11  7  6  7 10 22  7 15  9  8 18 11 14 13  9 20 12 12 11\n 10  7 11  8  9 10] [ 6  9  9 12 10  7  8  9 10  4  4 10 12  8  8  7 10  4 11  8]\n"
     ]
    }
   ],
   "source": [
    "np.random.seed(42)\n",
    "\n",
    "random_sample1 = np.random.choice(df['rings'],30,replace=False)\n",
    "\n",
    "\n",
    "np.random.seed(30)\n",
    "\n",
    "random_sample2 = np.random.choice(df['rings'],20,replace=False)\n",
    "\n",
    "print(random_sample1,random_sample2)"
   ]
  },
  {
   "cell_type": "code",
   "execution_count": 46,
   "metadata": {},
   "outputs": [
    {
     "output_type": "execute_result",
     "data": {
      "text/plain": [
       "'basics-ex4-boxplot.html'"
      ]
     },
     "metadata": {},
     "execution_count": 46
    }
   ],
   "source": [
    "data = [\n",
    "    go.Box(y=random_sample1, boxpoints='outliers', jitter=0.3, pointpos=0, name='First Sample'),\n",
    "    go.Box(y=random_sample2, boxpoints='outliers', jitter=0.3, pointpos=0, name='Second Sample')\n",
    "    ]\n",
    "layout = go.Layout(title='Box Plot Exercise')\n",
    "\n",
    "fig = go.Figure(data = data, layout = layout)\n",
    "pyo.plot(fig, filename='basics-ex4-boxplot')"
   ]
  },
  {
   "source": [
    "## 6. Histogram\n",
    "Histograms are for a continuous data analysis"
   ],
   "cell_type": "markdown",
   "metadata": {}
  },
  {
   "cell_type": "code",
   "execution_count": 50,
   "metadata": {},
   "outputs": [
    {
     "output_type": "execute_result",
     "data": {
      "text/plain": [
       "\"data = [\\n    go.Histogram(x=df['mpg'],xbins=dict(start=0,end=50,size=10))\\n    ]\\n\\nlayout = go.Layout(title='Histogram')\\n\\nfig = go.Figure(data=data, layout=layout)\\n\\npyo.plot(fig)\""
      ]
     },
     "metadata": {},
     "execution_count": 50
    }
   ],
   "source": [
    "'''data = [\n",
    "    go.Histogram(x=df['mpg'],xbins=dict(start=0,end=50,size=10))\n",
    "    ]\n",
    "\n",
    "layout = go.Layout(title='Histogram')\n",
    "\n",
    "fig = go.Figure(data=data, layout=layout)\n",
    "\n",
    "pyo.plot(fig)'''"
   ]
  },
  {
   "cell_type": "code",
   "execution_count": 51,
   "metadata": {},
   "outputs": [],
   "source": [
    "#Objective: Create a histogram that plots the length field \n",
    "#from th Abalone Dataset(Data/abalone.csv)\n",
    "#Set the range from 0 to 1, with a bin size of 0.02"
   ]
  },
  {
   "cell_type": "code",
   "execution_count": 53,
   "metadata": {},
   "outputs": [
    {
     "output_type": "execute_result",
     "data": {
      "text/plain": [
       "  sex  length  diameter  height  whole_weight  shucked_weight  viscera_weight  \\\n",
       "0   M   0.455     0.365   0.095        0.5140          0.2245          0.1010   \n",
       "1   M   0.350     0.265   0.090        0.2255          0.0995          0.0485   \n",
       "2   F   0.530     0.420   0.135        0.6770          0.2565          0.1415   \n",
       "3   M   0.440     0.365   0.125        0.5160          0.2155          0.1140   \n",
       "4   I   0.330     0.255   0.080        0.2050          0.0895          0.0395   \n",
       "\n",
       "   shell_weight  rings  \n",
       "0         0.150     15  \n",
       "1         0.070      7  \n",
       "2         0.210      9  \n",
       "3         0.155     10  \n",
       "4         0.055      7  "
      ],
      "text/html": "<div>\n<style scoped>\n    .dataframe tbody tr th:only-of-type {\n        vertical-align: middle;\n    }\n\n    .dataframe tbody tr th {\n        vertical-align: top;\n    }\n\n    .dataframe thead th {\n        text-align: right;\n    }\n</style>\n<table border=\"1\" class=\"dataframe\">\n  <thead>\n    <tr style=\"text-align: right;\">\n      <th></th>\n      <th>sex</th>\n      <th>length</th>\n      <th>diameter</th>\n      <th>height</th>\n      <th>whole_weight</th>\n      <th>shucked_weight</th>\n      <th>viscera_weight</th>\n      <th>shell_weight</th>\n      <th>rings</th>\n    </tr>\n  </thead>\n  <tbody>\n    <tr>\n      <th>0</th>\n      <td>M</td>\n      <td>0.455</td>\n      <td>0.365</td>\n      <td>0.095</td>\n      <td>0.5140</td>\n      <td>0.2245</td>\n      <td>0.1010</td>\n      <td>0.150</td>\n      <td>15</td>\n    </tr>\n    <tr>\n      <th>1</th>\n      <td>M</td>\n      <td>0.350</td>\n      <td>0.265</td>\n      <td>0.090</td>\n      <td>0.2255</td>\n      <td>0.0995</td>\n      <td>0.0485</td>\n      <td>0.070</td>\n      <td>7</td>\n    </tr>\n    <tr>\n      <th>2</th>\n      <td>F</td>\n      <td>0.530</td>\n      <td>0.420</td>\n      <td>0.135</td>\n      <td>0.6770</td>\n      <td>0.2565</td>\n      <td>0.1415</td>\n      <td>0.210</td>\n      <td>9</td>\n    </tr>\n    <tr>\n      <th>3</th>\n      <td>M</td>\n      <td>0.440</td>\n      <td>0.365</td>\n      <td>0.125</td>\n      <td>0.5160</td>\n      <td>0.2155</td>\n      <td>0.1140</td>\n      <td>0.155</td>\n      <td>10</td>\n    </tr>\n    <tr>\n      <th>4</th>\n      <td>I</td>\n      <td>0.330</td>\n      <td>0.255</td>\n      <td>0.080</td>\n      <td>0.2050</td>\n      <td>0.0895</td>\n      <td>0.0395</td>\n      <td>0.055</td>\n      <td>7</td>\n    </tr>\n  </tbody>\n</table>\n</div>"
     },
     "metadata": {},
     "execution_count": 53
    }
   ],
   "source": [
    "df = pd.read_csv('Data/abalone.csv')\n",
    "\n",
    "df.head()"
   ]
  },
  {
   "cell_type": "code",
   "execution_count": 54,
   "metadata": {},
   "outputs": [
    {
     "output_type": "execute_result",
     "data": {
      "text/plain": [
       "'basics-ex5-histogram.html'"
      ]
     },
     "metadata": {},
     "execution_count": 54
    }
   ],
   "source": [
    "data = [go.Histogram(x=df['length'],xbins=dict(start=0,end=1,size=0.02))]\n",
    "\n",
    "layout = go.Layout(title='Histogram')\n",
    "\n",
    "fig = go.Figure(data=data, layout=layout)\n",
    "\n",
    "pyo.plot(fig, filename='basics-ex5-histogram')"
   ]
  },
  {
   "source": [
    "## 7. Distplot"
   ],
   "cell_type": "markdown",
   "metadata": {}
  },
  {
   "cell_type": "code",
   "execution_count": 57,
   "metadata": {},
   "outputs": [
    {
     "output_type": "execute_result",
     "data": {
      "text/plain": [
       "'temp-plot.html'"
      ]
     },
     "metadata": {},
     "execution_count": 57
    }
   ],
   "source": [
    "x1 = np.random.randn(200)+2\n",
    "x2 = np.random.randn(200)+1\n",
    "x3 = np.random.randn(200)\n",
    "x4 = np.random.randn(200)-1\n",
    "\n",
    "hist_data = [x1,x2,x3,x4]\n",
    "group_labels = ['x1','x2','x3','x4']\n",
    "\n",
    "fig = ff.create_distplot(hist_data,group_labels)\n",
    "\n",
    "pyo.plot(fig)"
   ]
  },
  {
   "source": [
    "Exercise - Distplot"
   ],
   "cell_type": "markdown",
   "metadata": {}
  },
  {
   "cell_type": "code",
   "execution_count": 58,
   "metadata": {},
   "outputs": [],
   "source": [
    "#Objective: Using the iris dataset, develop a Distplot\n",
    "#that compares the petal lengths of each class\n",
    "#File: Data/iris.csv\n",
    "#Fields: 'sepal_length'..."
   ]
  },
  {
   "cell_type": "code",
   "execution_count": 59,
   "metadata": {},
   "outputs": [
    {
     "output_type": "execute_result",
     "data": {
      "text/plain": [
       "   sepal_length  sepal_width  petal_length  petal_width        class\n",
       "0           5.1          3.5           1.4          0.2  Iris-setosa\n",
       "1           4.9          3.0           1.4          0.2  Iris-setosa\n",
       "2           4.7          3.2           1.3          0.2  Iris-setosa\n",
       "3           4.6          3.1           1.5          0.2  Iris-setosa\n",
       "4           5.0          3.6           1.4          0.2  Iris-setosa"
      ],
      "text/html": "<div>\n<style scoped>\n    .dataframe tbody tr th:only-of-type {\n        vertical-align: middle;\n    }\n\n    .dataframe tbody tr th {\n        vertical-align: top;\n    }\n\n    .dataframe thead th {\n        text-align: right;\n    }\n</style>\n<table border=\"1\" class=\"dataframe\">\n  <thead>\n    <tr style=\"text-align: right;\">\n      <th></th>\n      <th>sepal_length</th>\n      <th>sepal_width</th>\n      <th>petal_length</th>\n      <th>petal_width</th>\n      <th>class</th>\n    </tr>\n  </thead>\n  <tbody>\n    <tr>\n      <th>0</th>\n      <td>5.1</td>\n      <td>3.5</td>\n      <td>1.4</td>\n      <td>0.2</td>\n      <td>Iris-setosa</td>\n    </tr>\n    <tr>\n      <th>1</th>\n      <td>4.9</td>\n      <td>3.0</td>\n      <td>1.4</td>\n      <td>0.2</td>\n      <td>Iris-setosa</td>\n    </tr>\n    <tr>\n      <th>2</th>\n      <td>4.7</td>\n      <td>3.2</td>\n      <td>1.3</td>\n      <td>0.2</td>\n      <td>Iris-setosa</td>\n    </tr>\n    <tr>\n      <th>3</th>\n      <td>4.6</td>\n      <td>3.1</td>\n      <td>1.5</td>\n      <td>0.2</td>\n      <td>Iris-setosa</td>\n    </tr>\n    <tr>\n      <th>4</th>\n      <td>5.0</td>\n      <td>3.6</td>\n      <td>1.4</td>\n      <td>0.2</td>\n      <td>Iris-setosa</td>\n    </tr>\n  </tbody>\n</table>\n</div>"
     },
     "metadata": {},
     "execution_count": 59
    }
   ],
   "source": [
    "df = pd.read_csv('Data/iris.csv')\n",
    "\n",
    "df.head()"
   ]
  },
  {
   "cell_type": "code",
   "execution_count": 63,
   "metadata": {},
   "outputs": [
    {
     "output_type": "execute_result",
     "data": {
      "text/plain": [
       "array(['Iris-setosa', 'Iris-versicolor', 'Iris-virginica'], dtype=object)"
      ]
     },
     "metadata": {},
     "execution_count": 63
    }
   ],
   "source": [
    "df['class'].unique()"
   ]
  },
  {
   "cell_type": "code",
   "execution_count": 67,
   "metadata": {},
   "outputs": [
    {
     "output_type": "execute_result",
     "data": {
      "text/plain": [
       "'basics-ex6-distplot.html'"
      ]
     },
     "metadata": {},
     "execution_count": 67
    }
   ],
   "source": [
    "hist_data = []\n",
    "group_labels = []\n",
    "for flower_class in df['class'].unique():\n",
    "     flower_data = df[df['class'] == flower_class]['petal_length']\n",
    "     hist_data.append(flower_data)\n",
    "     group_labels.append(flower_class)\n",
    "\n",
    "fig = ff.create_distplot(hist_data,group_labels)\n",
    "\n",
    "pyo.plot(fig, filename = 'basics-ex6-distplot')"
   ]
  },
  {
   "source": [
    "## 8. Heatmap\n",
    "Can be used both for categorical and continuous data"
   ],
   "cell_type": "markdown",
   "metadata": {}
  },
  {
   "cell_type": "code",
   "execution_count": 69,
   "metadata": {},
   "outputs": [
    {
     "output_type": "execute_result",
     "data": {
      "text/plain": [
       "'temp-plot.html'"
      ]
     },
     "metadata": {},
     "execution_count": 69
    }
   ],
   "source": [
    "df = pd.read_csv('Data/2010SantaBarbaraCA.csv')\n",
    "\n",
    "data = [go.Heatmap(\n",
    "    x=df['DAY'], \n",
    "    y=df['LST_TIME'], \n",
    "    z=df['T_HR_AVG'].values.tolist(),\n",
    "    colorscale='Jet')]\n",
    "\n",
    "layout = go.Layout(title='SB CA Temps')\n",
    "\n",
    "fig = go.Figure(data=data,layout = layout)\n",
    "\n",
    "pyo.plot(fig)"
   ]
  },
  {
   "cell_type": "code",
   "execution_count": 70,
   "metadata": {},
   "outputs": [],
   "source": [
    "#subplots -> create traces and then:\n",
    "#fig = tools.make_subplots(rows=1,cols=3,subplot_titles=['Sika AK', 'lalala', 'akkaka'], shared_yaxes=False)\n",
    "\n",
    "#fig.append_trace(trace1,1,1)\n",
    "#fig.append_trace(trace2,1,2)\n",
    "#fig.append_trace(trace3,1,3)\n",
    "\n",
    "#fig['layout'].update(title='Temps for 3 cities')\n",
    "\n",
    "#pyo.plot(fig)"
   ]
  },
  {
   "source": [
    "Exercise - Heatmap"
   ],
   "cell_type": "markdown",
   "metadata": {}
  },
  {
   "cell_type": "code",
   "execution_count": 71,
   "metadata": {},
   "outputs": [],
   "source": [
    "# Objective: Using the flights dataset available\n",
    "# from the data folder as flights.csv\n",
    "# create a heatmap with the following parameters\n",
    "# x-axis = \"year\"\n",
    "# y-axis = \"month\"\n",
    "# z-axis(color)=\"passengers\" "
   ]
  },
  {
   "cell_type": "code",
   "execution_count": 72,
   "metadata": {},
   "outputs": [
    {
     "output_type": "execute_result",
     "data": {
      "text/plain": [
       "   year     month  passengers\n",
       "0  1949   January         112\n",
       "1  1949  February         118\n",
       "2  1949     March         132\n",
       "3  1949     April         129\n",
       "4  1949       May         121"
      ],
      "text/html": "<div>\n<style scoped>\n    .dataframe tbody tr th:only-of-type {\n        vertical-align: middle;\n    }\n\n    .dataframe tbody tr th {\n        vertical-align: top;\n    }\n\n    .dataframe thead th {\n        text-align: right;\n    }\n</style>\n<table border=\"1\" class=\"dataframe\">\n  <thead>\n    <tr style=\"text-align: right;\">\n      <th></th>\n      <th>year</th>\n      <th>month</th>\n      <th>passengers</th>\n    </tr>\n  </thead>\n  <tbody>\n    <tr>\n      <th>0</th>\n      <td>1949</td>\n      <td>January</td>\n      <td>112</td>\n    </tr>\n    <tr>\n      <th>1</th>\n      <td>1949</td>\n      <td>February</td>\n      <td>118</td>\n    </tr>\n    <tr>\n      <th>2</th>\n      <td>1949</td>\n      <td>March</td>\n      <td>132</td>\n    </tr>\n    <tr>\n      <th>3</th>\n      <td>1949</td>\n      <td>April</td>\n      <td>129</td>\n    </tr>\n    <tr>\n      <th>4</th>\n      <td>1949</td>\n      <td>May</td>\n      <td>121</td>\n    </tr>\n  </tbody>\n</table>\n</div>"
     },
     "metadata": {},
     "execution_count": 72
    }
   ],
   "source": [
    "df = pd.read_csv('Data/flights.csv')\n",
    "\n",
    "df.head()"
   ]
  },
  {
   "cell_type": "code",
   "execution_count": 77,
   "metadata": {},
   "outputs": [
    {
     "output_type": "execute_result",
     "data": {
      "text/plain": [
       "'basics-ex7-heatmap.html'"
      ]
     },
     "metadata": {},
     "execution_count": 77
    }
   ],
   "source": [
    "data = [go.Heatmap(\n",
    "    x=df['year'], \n",
    "    y=df['month'], \n",
    "    z=df['passengers'].values.tolist(),\n",
    "    colorscale='jet')]\n",
    "\n",
    "layout = go.Layout(title='Flights - Heatmap')\n",
    "\n",
    "fig = go.Figure(data=data,layout = layout)\n",
    "\n",
    "pyo.plot(fig, filename = 'basics-ex7-heatmap')"
   ]
  },
  {
   "cell_type": "code",
   "execution_count": null,
   "metadata": {},
   "outputs": [],
   "source": []
  }
 ]
}