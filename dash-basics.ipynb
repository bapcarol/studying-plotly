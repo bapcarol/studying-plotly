{
 "metadata": {
  "language_info": {
   "codemirror_mode": {
    "name": "ipython",
    "version": 3
   },
   "file_extension": ".py",
   "mimetype": "text/x-python",
   "name": "python",
   "nbconvert_exporter": "python",
   "pygments_lexer": "ipython3",
   "version": "3.8.5-final"
  },
  "orig_nbformat": 2,
  "kernelspec": {
   "name": "python3",
   "display_name": "Python 3",
   "language": "python"
  }
 },
 "nbformat": 4,
 "nbformat_minor": 2,
 "cells": [
  {
   "cell_type": "code",
   "execution_count": 1,
   "metadata": {},
   "outputs": [],
   "source": [
    "#dash modules\n",
    "import dash\n",
    "import dash_core_components as dcc\n",
    "import dash_html_components as html\n",
    "\n",
    "#plotly modules\n",
    "import plotly.offline as pyo \n",
    "import plotly.figure_factory as ff\n",
    "import plotly.graph_objs as go \n",
    "from plotly import tools\n",
    "\n",
    "#dataset modules\n",
    "import pandas as pd\n",
    "import numpy as np"
   ]
  },
  {
   "source": [
    "## 1. Based on HTML and CSS"
   ],
   "cell_type": "markdown",
   "metadata": {}
  },
  {
   "cell_type": "code",
   "execution_count": null,
   "metadata": {},
   "outputs": [],
   "source": [
    "app = dash.Dash()\n",
    "\n",
    "app.layout = html.Div(children=[\n",
    "    html.H1('Hello Dash')\n",
    "    html.Div('Dash: Web Dashboards with Python')\n",
    "])\n",
    "\n",
    "if __name__ == '__main__':\n",
    "    app.run_server()"
   ]
  },
  {
   "cell_type": "code",
   "execution_count": 5,
   "metadata": {},
   "outputs": [
    {
     "output_type": "stream",
     "name": "stdout",
     "text": [
      "Dash is running on http://127.0.0.1:8050/\n",
      "\n",
      " * Serving Flask app \"__main__\" (lazy loading)\n",
      " * Environment: production\n",
      "   WARNING: This is a development server. Do not use it in a production deployment.\n",
      "   Use a production WSGI server instead.\n",
      " * Debug mode: off\n",
      " * Running on http://127.0.0.1:8050/ (Press CTRL+C to quit)\n",
      "127.0.0.1 - - [03/Feb/2021 16:14:04] \"\u001b[37mGET / HTTP/1.1\u001b[0m\" 200 -\n",
      "127.0.0.1 - - [03/Feb/2021 16:14:04] \"\u001b[37mGET /_dash-component-suites/dash_renderer/polyfill@7.v1_9_0m1612378425.8.7.min.js HTTP/1.1\u001b[0m\" 200 -\n",
      "127.0.0.1 - - [03/Feb/2021 16:14:04] \"\u001b[37mGET /_dash-component-suites/dash_renderer/react@16.v1_9_0m1612378425.14.0.min.js HTTP/1.1\u001b[0m\" 200 -\n",
      "127.0.0.1 - - [03/Feb/2021 16:14:04] \"\u001b[37mGET /_dash-component-suites/dash_renderer/prop-types@15.v1_9_0m1612378425.7.2.min.js HTTP/1.1\u001b[0m\" 200 -\n",
      "127.0.0.1 - - [03/Feb/2021 16:14:04] \"\u001b[37mGET /_dash-component-suites/dash_html_components/dash_html_components.v1_1_2m1612378426.min.js HTTP/1.1\u001b[0m\" 200 -\n",
      "127.0.0.1 - - [03/Feb/2021 16:14:04] \"\u001b[37mGET /_dash-component-suites/dash_renderer/react-dom@16.v1_9_0m1612378425.14.0.min.js HTTP/1.1\u001b[0m\" 200 -\n",
      "127.0.0.1 - - [03/Feb/2021 16:14:04] \"\u001b[37mGET /_dash-component-suites/dash_core_components/dash_core_components-shared.v1_15_0m1612378426.js HTTP/1.1\u001b[0m\" 200 -\n",
      "127.0.0.1 - - [03/Feb/2021 16:14:04] \"\u001b[37mGET /_dash-component-suites/dash_core_components/dash_core_components.v1_15_0m1612378426.min.js HTTP/1.1\u001b[0m\" 200 -\n",
      "127.0.0.1 - - [03/Feb/2021 16:14:04] \"\u001b[37mGET /_dash-component-suites/dash_renderer/dash_renderer.v1_9_0m1612378425.min.js HTTP/1.1\u001b[0m\" 200 -\n",
      "127.0.0.1 - - [03/Feb/2021 16:14:04] \"\u001b[37mGET /_dash-layout HTTP/1.1\u001b[0m\" 200 -\n",
      "127.0.0.1 - - [03/Feb/2021 16:14:04] \"\u001b[37mGET /_dash-dependencies HTTP/1.1\u001b[0m\" 200 -\n",
      "127.0.0.1 - - [03/Feb/2021 16:14:04] \"\u001b[37mGET /_dash-component-suites/dash_core_components/async-graph.v1_15_0m1611086576.js HTTP/1.1\u001b[0m\" 200 -\n",
      "127.0.0.1 - - [03/Feb/2021 16:14:05] \"\u001b[37mGET /_dash-component-suites/dash_core_components/async-plotlyjs.v1_15_0m1611086576.js HTTP/1.1\u001b[0m\" 200 -\n"
     ]
    }
   ],
   "source": [
    "app = dash.Dash()\n",
    "\n",
    "colors = {'background': '#111111', 'text': '#7FDBFF'}\n",
    "\n",
    "app.layout = html.Div(children=[\n",
    "    html.H1('Hello Dash'),\n",
    "    html.Div('Dash: Web Dashboards with Python'),\n",
    "    dcc.Graph(id='example', figure={'data': [{'x':[1,2,3],'y':[4,1,2],'type':'bar','name':'SF'}, {'x':[1,2,3],'y':[2,4,5],'type':'bar','name':'NYC'}],\n",
    "        'layout':{ \n",
    "        'plot_bgcolor': colors['background'],\n",
    "        'paper_bgcolor': colors['background'],\n",
    "        'font': {'color': colors['text']},    \n",
    "        'title': 'BAR PLOTS'}})\n",
    "])\n",
    "\n",
    "if __name__ == '__main__':\n",
    "    app.run_server()"
   ]
  },
  {
   "source": [
    "## 2. Using Plotly\n",
    "First let's keep it simple and just put one plot on the Dashboard"
   ],
   "cell_type": "markdown",
   "metadata": {}
  },
  {
   "cell_type": "code",
   "execution_count": 9,
   "metadata": {},
   "outputs": [
    {
     "output_type": "stream",
     "name": "stdout",
     "text": [
      "Dash is running on http://127.0.0.1:8050/\n",
      "\n",
      "Dash is running on http://127.0.0.1:8050/\n",
      "\n",
      "Dash is running on http://127.0.0.1:8050/\n",
      "\n",
      " * Serving Flask app \"__main__\" (lazy loading)\n",
      " * Environment: production\n",
      "   WARNING: This is a development server. Do not use it in a production deployment.\n",
      "   Use a production WSGI server instead.\n",
      " * Debug mode: off\n",
      " * Running on http://127.0.0.1:8050/ (Press CTRL+C to quit)\n",
      "127.0.0.1 - - [03/Feb/2021 17:07:39] \"\u001b[37mGET / HTTP/1.1\u001b[0m\" 200 -\n",
      "127.0.0.1 - - [03/Feb/2021 17:07:39] \"\u001b[37mGET /_dash-layout HTTP/1.1\u001b[0m\" 200 -\n",
      "127.0.0.1 - - [03/Feb/2021 17:07:39] \"\u001b[37mGET /_dash-dependencies HTTP/1.1\u001b[0m\" 200 -\n",
      "127.0.0.1 - - [03/Feb/2021 17:07:39] \"\u001b[37mGET /_dash-component-suites/dash_core_components/async-graph.v1_15_0m1611086576.js HTTP/1.1\u001b[0m\" 200 -\n",
      "127.0.0.1 - - [03/Feb/2021 17:07:39] \"\u001b[37mGET /_favicon.ico?v=1.19.0 HTTP/1.1\u001b[0m\" 200 -\n",
      "127.0.0.1 - - [03/Feb/2021 17:07:40] \"\u001b[37mGET /_dash-component-suites/dash_core_components/async-plotlyjs.v1_15_0m1611086576.js HTTP/1.1\u001b[0m\" 200 -\n"
     ]
    }
   ],
   "source": [
    "app = dash.Dash()\n",
    "\n",
    "#Creating DATA\n",
    "np.random.seed(42)\n",
    "\n",
    "random_x = np.random.randint(1,101,100)\n",
    "random_y = np.random.randint(1,101,100)\n",
    "\n",
    "#create the dash\n",
    "app.layout = html .Div([\n",
    "    dcc.Graph(id='scatterplot',\n",
    "    figure = {\n",
    "        'data':[go.Scatter(\n",
    "            x=random_x,\n",
    "            y=random_y,\n",
    "            mode = 'markers'\n",
    "        )], \n",
    "        'layout': go.Layout(title='My Scatterplot')}),\n",
    "        \n",
    "    dcc.Graph(id='scatterplot2',\n",
    "    figure = {\n",
    "        'data':[go.Scatter(\n",
    "            x=random_x,\n",
    "            y=random_y,\n",
    "            mode = 'markers'\n",
    "        )], \n",
    "        'layout': go.Layout(title='My Scatterplot')})\n",
    "])\n",
    "\n",
    "if __name__ == '__main__':\n",
    "    app.run_server()"
   ]
  },
  {
   "source": [
    "### Simple Dashboard Exercise\n",
    "Objective: build a dashboard that imports OldFaithful.csv from the data directory and displays a scatterplot.\n",
    "\n",
    "\n",
    "The field names are:\n",
    "\n",
    "-> 'D' = date of recordings in month (in August) \n",
    "\n",
    "-> 'X' = Duration of the current eruption in minutes (to nearest 0.1)\n",
    "\n",
    "-> 'Y' = Waiting time until the next eruption in minutes"
   ],
   "cell_type": "markdown",
   "metadata": {}
  },
  {
   "cell_type": "code",
   "execution_count": 2,
   "metadata": {},
   "outputs": [
    {
     "output_type": "execute_result",
     "data": {
      "text/plain": [
       "   D   Y    X\n",
       "0  1  78  4.4\n",
       "1  1  74  3.9\n",
       "2  1  68  4.0\n",
       "3  1  76  4.0\n",
       "4  1  80  3.5"
      ],
      "text/html": "<div>\n<style scoped>\n    .dataframe tbody tr th:only-of-type {\n        vertical-align: middle;\n    }\n\n    .dataframe tbody tr th {\n        vertical-align: top;\n    }\n\n    .dataframe thead th {\n        text-align: right;\n    }\n</style>\n<table border=\"1\" class=\"dataframe\">\n  <thead>\n    <tr style=\"text-align: right;\">\n      <th></th>\n      <th>D</th>\n      <th>Y</th>\n      <th>X</th>\n    </tr>\n  </thead>\n  <tbody>\n    <tr>\n      <th>0</th>\n      <td>1</td>\n      <td>78</td>\n      <td>4.4</td>\n    </tr>\n    <tr>\n      <th>1</th>\n      <td>1</td>\n      <td>74</td>\n      <td>3.9</td>\n    </tr>\n    <tr>\n      <th>2</th>\n      <td>1</td>\n      <td>68</td>\n      <td>4.0</td>\n    </tr>\n    <tr>\n      <th>3</th>\n      <td>1</td>\n      <td>76</td>\n      <td>4.0</td>\n    </tr>\n    <tr>\n      <th>4</th>\n      <td>1</td>\n      <td>80</td>\n      <td>3.5</td>\n    </tr>\n  </tbody>\n</table>\n</div>"
     },
     "metadata": {},
     "execution_count": 2
    }
   ],
   "source": [
    "#Importing DATA\n",
    "\n",
    "df = pd.read_csv('Data/OldFaithful.csv')\n",
    "\n",
    "df.head()"
   ]
  },
  {
   "cell_type": "code",
   "execution_count": 5,
   "metadata": {},
   "outputs": [
    {
     "output_type": "stream",
     "name": "stdout",
     "text": [
      "Dash is running on http://127.0.0.1:8050/\n",
      "\n",
      "Dash is running on http://127.0.0.1:8050/\n",
      "\n",
      "Dash is running on http://127.0.0.1:8050/\n",
      "\n",
      " * Serving Flask app \"__main__\" (lazy loading)\n",
      " * Environment: production\n",
      "   WARNING: This is a development server. Do not use it in a production deployment.\n",
      "   Use a production WSGI server instead.\n",
      " * Debug mode: off\n",
      " * Running on http://127.0.0.1:8050/ (Press CTRL+C to quit)\n",
      "127.0.0.1 - - [03/Feb/2021 17:23:18] \"\u001b[37mGET / HTTP/1.1\u001b[0m\" 200 -\n",
      "127.0.0.1 - - [03/Feb/2021 17:23:19] \"\u001b[37mGET /_dash-layout HTTP/1.1\u001b[0m\" 200 -\n",
      "127.0.0.1 - - [03/Feb/2021 17:23:19] \"\u001b[37mGET /_dash-dependencies HTTP/1.1\u001b[0m\" 200 -\n",
      "127.0.0.1 - - [03/Feb/2021 17:23:19] \"\u001b[37mGET /_favicon.ico?v=1.19.0 HTTP/1.1\u001b[0m\" 200 -\n"
     ]
    }
   ],
   "source": [
    "app = dash.Dash()\n",
    "\n",
    "#create the dash\n",
    "app.layout = html .Div([\n",
    "    dcc.Graph(id='scatterplot',\n",
    "\n",
    "    figure = {\n",
    "        'data':[go.Scatter(\n",
    "            x=df['X'],\n",
    "            y=df['Y'],\n",
    "            mode = 'markers',\n",
    "        )], \n",
    "        'layout': go.Layout(title='Old faithful eruption interval vs duration',  \n",
    "        xaxis = {'title':'Duration of the current eruption in minutes'}, \n",
    "        yaxis = dict(title = 'Waiting time until the next eruption in minutes'))\n",
    "        }\n",
    "        )\n",
    "])\n",
    "\n",
    "if __name__ == '__main__':\n",
    "    app.run_server()"
   ]
  },
  {
   "cell_type": "code",
   "execution_count": null,
   "metadata": {},
   "outputs": [],
   "source": []
  }
 ]
}