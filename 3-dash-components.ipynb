{
 "metadata": {
  "language_info": {
   "codemirror_mode": {
    "name": "ipython",
    "version": 3
   },
   "file_extension": ".py",
   "mimetype": "text/x-python",
   "name": "python",
   "nbconvert_exporter": "python",
   "pygments_lexer": "ipython3",
   "version": "3.8.5-final"
  },
  "orig_nbformat": 2,
  "kernelspec": {
   "name": "python3",
   "display_name": "Python 3",
   "language": "python"
  }
 },
 "nbformat": 4,
 "nbformat_minor": 2,
 "cells": [
  {
   "cell_type": "code",
   "execution_count": 1,
   "metadata": {},
   "outputs": [],
   "source": [
    "#dash modules\n",
    "import dash\n",
    "import dash_core_components as dcc\n",
    "import dash_html_components as html\n",
    "\n",
    "#plotly modules\n",
    "import plotly.offline as pyo \n",
    "import plotly.figure_factory as ff\n",
    "import plotly.graph_objs as go \n",
    "from plotly import tools\n",
    "\n",
    "#dataset modules\n",
    "import pandas as pd\n",
    "import numpy as np"
   ]
  },
  {
   "source": [
    "## 1. HTML components\n",
    "\n",
    "- An HTML Div element is a division: section or block of the web app.\n",
    "\n",
    "- CSS allows for styling HTML elements (fonts, colors, borders, etc..)\n",
    "\n",
    "- Dash uses dictionaries to pass in CSS style calls\n"
   ],
   "cell_type": "markdown",
   "metadata": {}
  },
  {
   "cell_type": "code",
   "execution_count": 2,
   "metadata": {},
   "outputs": [
    {
     "output_type": "stream",
     "name": "stdout",
     "text": [
      "Dash is running on http://127.0.0.1:8050/\n",
      "\n",
      " * Serving Flask app \"__main__\" (lazy loading)\n",
      " * Environment: production\n",
      "   WARNING: This is a development server. Do not use it in a production deployment.\n",
      "   Use a production WSGI server instead.\n",
      " * Debug mode: off\n",
      " * Running on http://127.0.0.1:8050/ (Press CTRL+C to quit)\n"
     ]
    }
   ],
   "source": [
    "app = dash.Dash()\n",
    "\n",
    "app.layout = html.Div(['This is the outermost div!',\n",
    "html.Div(['This is an inner div!'],\n",
    "style={'color':'red'}),\n",
    "html.Div(['Another inner div!'],\n",
    "style={'color':'blue', 'border':'3px blue solid'})],\n",
    "style ={'color':'green','border':'2px green solid'}\n",
    ")\n",
    "\n",
    "if __name__ == '__main__':\n",
    "    app.run_server()"
   ]
  },
  {
   "source": [
    "## 2. Core components\n",
    "- Are more **abstract** (higher level) calls that allow you to quickly insert common components into your dashboard.\n",
    "\n",
    "#### *reference*: https://dash.plot.ly/dash-core-components\n"
   ],
   "cell_type": "markdown",
   "metadata": {}
  },
  {
   "source": [
    "app = dash.Dash()\n",
    "\n",
    "app.layout = html.Div([\n",
    "\n",
    "    html.Label('Dropdown'),\n",
    "    dcc.Dropdown(options=[{\n",
    "    'label':'New York City',\n",
    "    'value': 'NYC'},\n",
    "    {'label': 'San Francisco',\n",
    "    'value': 'SF'}],\n",
    "    value = 'SF'),\n",
    "\n",
    "    html.Label('Slider'),\n",
    "    dcc.Slider(min=-10, max=10, step=0.5, value =0,\n",
    "    marks ={i: i for i in range(-10,10)}),\n",
    "\n",
    "    html.P(html.Label('Som Radio Items')),\n",
    "    dcc.RadioItems(options=[{'label': 'New York City',\n",
    "    'value': 'NYC '},\n",
    "    {'label': 'San Fracisco', 'value':'SF'}],\n",
    "    value = 'SF')\n",
    "\n",
    "])\n",
    "\n",
    "if __name__ == '__main__':\n",
    "    app.run_server()\n"
   ],
   "cell_type": "code",
   "metadata": {},
   "execution_count": 6,
   "outputs": [
    {
     "output_type": "stream",
     "name": "stdout",
     "text": [
      "Dash is running on http://127.0.0.1:8050/\n",
      "\n",
      "Dash is running on http://127.0.0.1:8050/\n",
      "\n",
      "Dash is running on http://127.0.0.1:8050/\n",
      "\n",
      "Dash is running on http://127.0.0.1:8050/\n",
      "\n",
      "Dash is running on http://127.0.0.1:8050/\n",
      "\n",
      " * Serving Flask app \"__main__\" (lazy loading)\n",
      " * Environment: production\n",
      "   WARNING: This is a development server. Do not use it in a production deployment.\n",
      "   Use a production WSGI server instead.\n",
      " * Debug mode: off\n",
      " * Running on http://127.0.0.1:8050/ (Press CTRL+C to quit)\n",
      "127.0.0.1 - - [04/Feb/2021 12:08:31] \"\u001b[37mGET / HTTP/1.1\u001b[0m\" 200 -\n",
      "127.0.0.1 - - [04/Feb/2021 12:08:31] \"\u001b[37mGET /_dash-layout HTTP/1.1\u001b[0m\" 200 -\n",
      "127.0.0.1 - - [04/Feb/2021 12:08:31] \"\u001b[37mGET /_dash-dependencies HTTP/1.1\u001b[0m\" 200 -\n",
      "127.0.0.1 - - [04/Feb/2021 12:08:31] \"\u001b[37mGET /_favicon.ico?v=1.19.0 HTTP/1.1\u001b[0m\" 200 -\n"
     ]
    }
   ]
  },
  {
   "source": [
    "## 3. Markdown with Dash\n",
    "\n",
    "- Dash Apps can be written in markdown.\n",
    "\n",
    "- Dash Uses the [CommonMark](http://commonmark.org/) specification of Markdown\n",
    "\n",
    "#### *reference*: http://commonmark.org/help"
   ],
   "cell_type": "markdown",
   "metadata": {}
  },
  {
   "cell_type": "code",
   "execution_count": null,
   "metadata": {},
   "outputs": [],
   "source": [
    "app = dash.Dash()\n",
    "\n",
    "app.layout = html.Div([\n",
    "    dcc.Markdown(children=markdown_text)\n",
    "])\n",
    "\n",
    "if __name__ == '__main__':\n",
    "    app.run_server()"
   ]
  },
  {
   "source": [
    "## 4. Using Help with Dash\n",
    "\n",
    "-  While its most useful to reference the [documentation](https://dash.plot.ly/), you can also quickly generate help with two methods: \n",
    "\n",
    "    a) *help()* call inside of python\n",
    "\n",
    "    b) *pydoc* call at your terminal\n",
    "\n",
    "- This is very useful if you dont have internet for some reason and you need some questions answered"
   ],
   "cell_type": "markdown",
   "metadata": {}
  },
  {
   "cell_type": "code",
   "execution_count": 7,
   "metadata": {},
   "outputs": [
    {
     "output_type": "stream",
     "name": "stdout",
     "text": [
      "Help on class Div in module dash_html_components.Div:\n\nclass Div(dash.development.base_component.Component)\n |  Div(children=None, id=undefined, n_clicks=undefined, n_clicks_timestamp=undefined, key=undefined, role=undefined, accessKey=undefined, className=undefined, contentEditable=undefined, contextMenu=undefined, dir=undefined, draggable=undefined, hidden=undefined, lang=undefined, spellCheck=undefined, style=undefined, tabIndex=undefined, title=undefined, loading_state=undefined, **kwargs)\n |  \n |  A Div component.\n |  Div is a wrapper for the <div> HTML5 element.\n |  For detailed attribute info see:\n |  https://developer.mozilla.org/en-US/docs/Web/HTML/Element/div\n |  \n |  Keyword arguments:\n |  - children (a list of or a singular dash component, string or number; optional): The children of this component\n |  - id (string; optional): The ID of this component, used to identify dash components\n |  in callbacks. The ID needs to be unique across all of the\n |  components in an app.\n |  - n_clicks (number; default 0): An integer that represents the number of times\n |  that this element has been clicked on.\n |  - n_clicks_timestamp (number; default -1): An integer that represents the time (in ms since 1970)\n |  at which n_clicks changed. This can be used to tell\n |  which button was changed most recently.\n |  - key (string; optional): A unique identifier for the component, used to improve\n |  performance by React.js while rendering components\n |  See https://reactjs.org/docs/lists-and-keys.html for more info\n |  - role (string; optional): The ARIA role attribute\n |  - data-* (string; optional): A wildcard data attribute\n |  - aria-* (string; optional): A wildcard aria attribute\n |  - accessKey (string; optional): Keyboard shortcut to activate or add focus to the element.\n |  - className (string; optional): Often used with CSS to style elements with common properties.\n |  - contentEditable (string; optional): Indicates whether the element's content is editable.\n |  - contextMenu (string; optional): Defines the ID of a <menu> element which will serve as the element's context menu.\n |  - dir (string; optional): Defines the text direction. Allowed values are ltr (Left-To-Right) or rtl (Right-To-Left)\n |  - draggable (string; optional): Defines whether the element can be dragged.\n |  - hidden (a value equal to: 'hidden', 'HIDDEN' | boolean; optional): Prevents rendering of given element, while keeping child elements, e.g. script elements, active.\n |  - lang (string; optional): Defines the language used in the element.\n |  - spellCheck (string; optional): Indicates whether spell checking is allowed for the element.\n |  - style (dict; optional): Defines CSS styles which will override styles previously set.\n |  - tabIndex (string; optional): Overrides the browser's default tab order and follows the one specified instead.\n |  - title (string; optional): Text to be displayed in a tooltip when hovering over the element.\n |  - loading_state (dict; optional): Object that holds the loading state object coming from dash-renderer. loading_state has the following type: dict containing keys 'is_loading', 'prop_name', 'component_name'.\n |  Those keys have the following types:\n |    - is_loading (boolean; optional): Determines if the component is loading or not\n |    - prop_name (string; optional): Holds which property is loading\n |    - component_name (string; optional): Holds the name of the component that is loading\n |  \n |  Method resolution order:\n |      Div\n |      dash.development.base_component.Component\n |      builtins.object\n |  \n |  Methods defined here:\n |  \n |  __init__ = wrapper(self, children=None, id=undefined, n_clicks=undefined, n_clicks_timestamp=undefined, key=undefined, role=undefined, accessKey=undefined, className=undefined, contentEditable=undefined, contextMenu=undefined, dir=undefined, draggable=undefined, hidden=undefined, lang=undefined, spellCheck=undefined, style=undefined, tabIndex=undefined, title=undefined, loading_state=undefined, **kwargs)\n |  \n |  ----------------------------------------------------------------------\n |  Data and other attributes defined here:\n |  \n |  __abstractmethods__ = frozenset()\n |  \n |  ----------------------------------------------------------------------\n |  Methods inherited from dash.development.base_component.Component:\n |  \n |  __delitem__(self, id)\n |      Delete items by ID in the tree of children.\n |  \n |  __getitem__(self, id)\n |      Recursively find the element with the given ID through the tree of\n |      children.\n |  \n |  __iter__(self)\n |      Yield IDs in the tree of children.\n |  \n |  __len__(self)\n |      Return the number of items in the tree.\n |  \n |  __repr__(self)\n |      Return repr(self).\n |  \n |  __setitem__(self, id, item)\n |      Set an element by its ID.\n |  \n |  to_plotly_json(self)\n |  \n |  ----------------------------------------------------------------------\n |  Data descriptors inherited from dash.development.base_component.Component:\n |  \n |  __dict__\n |      dictionary for instance variables (if defined)\n |  \n |  __weakref__\n |      list of weak references to the object (if defined)\n |  \n |  ----------------------------------------------------------------------\n |  Data and other attributes inherited from dash.development.base_component.Component:\n |  \n |  REQUIRED = required\n |  \n |  UNDEFINED = undefined\n\nNone\n"
     ]
    }
   ],
   "source": [
    "app = dash.Dash()\n",
    "\n",
    "print(help(html.Div))"
   ]
  },
  {
   "cell_type": "code",
   "execution_count": null,
   "metadata": {},
   "outputs": [],
   "source": [
    "#on terminal type:\n",
    "\n",
    "#pydoc -w dash_htl_components.Div\n",
    "\n",
    "#and then this will automatically generate an html file and you can open on browser."
   ]
  }
 ]
}